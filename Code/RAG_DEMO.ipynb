{
 "cells": [
  {
   "cell_type": "code",
   "execution_count": null,
   "id": "bf61b50a",
   "metadata": {},
   "outputs": [
    {
     "name": "stderr",
     "output_type": "stream",
     "text": [
      "e:\\Iran\\Code\\.conda\\Lib\\site-packages\\tqdm\\auto.py:21: TqdmWarning: IProgress not found. Please update jupyter and ipywidgets. See https://ipywidgets.readthedocs.io/en/stable/user_install.html\n",
      "  from .autonotebook import tqdm as notebook_tqdm\n"
     ]
    }
   ],
   "source": [
    "from huggingface_hub import login\n",
    "login(\"----\")"
   ]
  },
  {
   "cell_type": "code",
   "execution_count": null,
   "id": "01585520",
   "metadata": {},
   "outputs": [],
   "source": [
    "def warn(*args,**kwargs):\n",
    "    pass\n",
    "import warnings\n",
    "warnings.warn = warn\n",
    "warnings.filterwarnings(\"ignore\")"
   ]
  },
  {
   "cell_type": "code",
   "execution_count": null,
   "id": "bd7c8b0f",
   "metadata": {},
   "outputs": [],
   "source": [
    "from langchain_community.document_loaders import CSVLoader\n",
    "from langchain_text_splitters import RecursiveCharacterTextSplitter\n",
    "from langchain_community.vectorstores import FAISS\n",
    "from langchain_community.embeddings import HuggingFaceEmbeddings\n",
    "from langchain.chains import RetrievalQA\n",
    "from langchain.prompts import PromptTemplate\n",
    "from transformers import AutoTokenizer, pipeline\n",
    "from langchain_community.llms import HuggingFacePipeline\n",
    "from langchain_openai import ChatOpenAI\n",
    "import torch\n",
    "import os"
   ]
  },
  {
   "cell_type": "markdown",
   "id": "ed6db0ab",
   "metadata": {},
   "source": [
    "## 1- Initialize the LLM"
   ]
  },
  {
   "cell_type": "code",
   "execution_count": 5,
   "id": "543bde26",
   "metadata": {},
   "outputs": [
    {
     "name": "stderr",
     "output_type": "stream",
     "text": [
      "Loading checkpoint shards: 100%|██████████| 4/4 [00:00<00:00, 10.14it/s]\n",
      "Device set to use cpu\n"
     ]
    }
   ],
   "source": [
    "\n",
    "model_name = \"google/gemma-7b-it\"\n",
    "tokenizer = AutoTokenizer.from_pretrained(model_name)\n",
    "gemma_pipeline = pipeline(\n",
    "    \"text-generation\",\n",
    "    model=model_name,\n",
    "    tokenizer=tokenizer,\n",
    "    device_map=\"auto\",\n",
    "    max_new_tokens=1024,\n",
    "    do_sample= True,\n",
    "    temperature=0.1,  # Lower temperature reduces hallucinations\n",
    ")\n",
    "llm = HuggingFacePipeline(pipeline=gemma_pipeline)\n",
    "\n",
    "# OPENAI_API_KEY=\"---\"\n",
    "# llm= ChatOpenAI(model=\"gpt-4.1-mini\", temperature=0.1, max_tokens=1024,api_key=OPENAI_API_KEY)"
   ]
  },
  {
   "cell_type": "markdown",
   "id": "d9e62265",
   "metadata": {},
   "source": [
    "## 2- Define the document Loader"
   ]
  },
  {
   "cell_type": "code",
   "execution_count": 9,
   "id": "f0617305",
   "metadata": {},
   "outputs": [],
   "source": [
    "import os\n",
    "files = ['khadamat_cleaned.csv','pages_cleaned.csv','NEWS_cleaned.csv']\n",
    "docs= []\n",
    "for file in files:\n",
    "    loader = CSVLoader(file_path=os.path.join(data_dir, file),\n",
    "                       csv_args={\n",
    "                           'delimiter': ',',\n",
    "                           'quotechar': '\"'},\n",
    "                       encoding='utf-8-sig',\n",
    "                       )\n",
    "    docs.extend(loader.load())\n",
    "\n"
   ]
  },
  {
   "cell_type": "markdown",
   "id": "b2226c63",
   "metadata": {},
   "source": [
    "## 3- Define the text splitter"
   ]
  },
  {
   "cell_type": "code",
   "execution_count": 10,
   "id": "4aec2eca",
   "metadata": {},
   "outputs": [],
   "source": [
    "text_splitter = RecursiveCharacterTextSplitter(\n",
    "    chunk_size=600,\n",
    "    chunk_overlap=50,\n",
    "    separators=[\"\\n\\n\", \"\\n\", \"۔\", \"؟\", \"!\", \" \"]\n",
    ")\n",
    "texts = text_splitter.split_documents(docs)\n"
   ]
  },
  {
   "cell_type": "markdown",
   "id": "767c2dba",
   "metadata": {},
   "source": [
    "## 4- Define the embedding model"
   ]
  },
  {
   "cell_type": "code",
   "execution_count": 11,
   "id": "d1e36b86",
   "metadata": {},
   "outputs": [],
   "source": [
    "embedder = HuggingFaceEmbeddings(\n",
    "    model_name=\"intfloat/multilingual-e5-large\",\n",
    "    model_kwargs={\"device\": \"cuda\" if torch.cuda.is_available() else \"cpu\"}\n",
    ")\n"
   ]
  },
  {
   "cell_type": "markdown",
   "id": "29c3c951",
   "metadata": {},
   "source": [
    "## 5- Define the vectore store "
   ]
  },
  {
   "cell_type": "code",
   "execution_count": 12,
   "id": "975869b5",
   "metadata": {},
   "outputs": [],
   "source": [
    "vectorstore = FAISS.from_documents(texts, embedder)"
   ]
  },
  {
   "cell_type": "markdown",
   "id": "a986f804",
   "metadata": {},
   "source": [
    "## 6- Define the retriever"
   ]
  },
  {
   "cell_type": "code",
   "execution_count": 13,
   "id": "c1523ea0",
   "metadata": {},
   "outputs": [
    {
     "data": {
      "text/plain": [
       "[Document(id='10615898-4f24-4bb8-b265-46a65e5cb429', metadata={'source': 'e:\\\\Iran\\\\Data\\\\csv\\\\khadamat_cleaned.csv', 'row': 17}, page_content='برای مشتریان حقوقی بانک است که خدماتی مانند صدور کارت اعتباری و همچنین اعطای تسهیلات در قالب عقد جعاله و فروش اقساطی برای کارکنان مشتریان حقوقی بانک را با شرایط ویژه دریافت کنند. بیشتر بدانیم » تسهیلات قرض\\u200cالحسنه ازدواج تسهیلات قرض\\u200cالحسنه ازدواج با هدف حمایت از زوج\\u200cهای جوان در قالب قرض\\u200cالحسنه پرداخت می\\u200cشود. بیشتر بدانیم » تسهیلات قرض\\u200cالحسنه فرزندآوری تسهیلات قرض\\u200cالحسنه فرزندآوری با توجه به قانون حمایت از خانواده و جوانی جمعیت برای تولد هر فرزند در قالب قرض\\u200cالحسنه پرداخت می\\u200cشود. بیشتر بدانیم » آدرس کوتاه شده: https://enbank.ir/s/mfalqO'),\n",
       " Document(id='ac4b5c5c-a425-47c2-b501-d6c596e2ef39', metadata={'source': 'e:\\\\Iran\\\\Data\\\\csv\\\\khadamat_cleaned.csv', 'row': 17}, page_content='desc: چچ تسهیلات مشارکت مدنی تسهیلات مشارکت مدنی با هدف کمک به پیشرفت و رشد و رونق پروژه\\u200cهای فعالان اقتصادی در نظر گرفته شده است. بیشتر بدانیم » مضاربه بازرگانان و فعالان بخش تجاری کشور می\\u200cتوانند به\\u200cمنظور گسترش امور بازرگانی داخلی منابع نقدی موردنیاز خود برای خریدوفروش کالا را در قالب عقد مضاربه دریافت کنند. بیشتر بدانیم » خدمات ارزی مشتریان ارزی بانک اقتصادنوین می\\u200cتوانند کلیه خدمات ارزی مانند صدور حواله، گشایش اعتبارات اسنادی خارجی و صدور ضمانت\\u200cنامه\\u200cهای ارزی را در قالب خدمات ارزی دریافت کنند. بیشتر بدانیم » خدمات ریالی ویژه خدمات ویژه ریالی امکانی برای مشتریان حقوقی بانک است که خدماتی مانند')]"
      ]
     },
     "execution_count": 13,
     "metadata": {},
     "output_type": "execute_result"
    }
   ],
   "source": [
    "retriever = vectorstore.as_retriever(\n",
    "    search_kwargs={\"k\": 2}  # Retrieve top 3 relevant chunks\n",
    ")\n",
    "retriever.invoke(\"چه تسهیلاتی توسط بانک ارائه میشود؟\")"
   ]
  },
  {
   "cell_type": "code",
   "execution_count": 14,
   "id": "b1adda4d",
   "metadata": {},
   "outputs": [
    {
     "data": {
      "text/plain": [
       "PromptTemplate(input_variables=['context', 'question'], input_types={}, partial_variables={}, template=\"به عنوان یک دستیار هوشمند، فقط از اطلاعات ارائه شده در بخش زمینه استفاده کن.\\nاگر پاسخ را نمی\\u200cدانی بگو: 'پاسخ این سوال در دانش من موجود نیست'.\\n\\nزمینه:\\n{context}\\n\\nسوال: {question}\\nپاسخ به فارسی:\")"
      ]
     },
     "execution_count": 14,
     "metadata": {},
     "output_type": "execute_result"
    }
   ],
   "source": [
    "# 6. Create anti-hallucination prompt (Persian/English)\n",
    "template = \"\"\"\n",
    "به عنوان یک دستیار هوشمند، فقط از اطلاعات ارائه شده در بخش زمینه استفاده کن.\n",
    "اگر پاسخ را نمی‌دانی بگو: 'پاسخ این سوال در دانش من موجود نیست'.\n",
    "\n",
    "زمینه:\n",
    "{context}\n",
    "\n",
    "سوال: {question}\n",
    "پاسخ به فارسی:\n",
    "\"\"\".strip()\n",
    "\n",
    "prompt = PromptTemplate(\n",
    "    template=template,\n",
    "    input_variables=[\"context\", \"question\"]\n",
    ")\n",
    "prompt"
   ]
  },
  {
   "cell_type": "code",
   "execution_count": 15,
   "id": "28fced01",
   "metadata": {},
   "outputs": [],
   "source": [
    "qa_chain = RetrievalQA.from_chain_type(\n",
    "    llm=llm,\n",
    "    chain_type=\"stuff\",\n",
    "    retriever=retriever,\n",
    "    chain_type_kwargs={\"prompt\": prompt},\n",
    "    return_source_documents=True\n",
    ")\n"
   ]
  },
  {
   "cell_type": "code",
   "execution_count": 16,
   "id": "f81788e4",
   "metadata": {},
   "outputs": [],
   "source": [
    "def get_response(query):\n",
    "    result = qa_chain.invoke({\"query\": query})\n",
    "    \n",
    "    # Verify answer relevance\n",
    "    \n",
    "    return result['result']\n",
    "\n"
   ]
  },
  {
   "cell_type": "code",
   "execution_count": 17,
   "id": "0fd09f70",
   "metadata": {},
   "outputs": [
    {
     "data": {
      "text/plain": [
       "\"به عنوان یک دستیار هوشمند، فقط از اطلاعات ارائه شده در بخش زمینه استفاده کن.\\nاگر پاسخ را نمی\\u200cدانی بگو: 'پاسخ این سوال در دانش من موجود نیست'.\\n\\nزمینه:\\nبرای مشتریان حقوقی بانک است که خدماتی مانند صدور کارت اعتباری و همچنین اعطای تسهیلات در قالب عقد جعاله و فروش اقساطی برای کارکنان مشتریان حقوقی بانک را با شرایط ویژه دریافت کنند. بیشتر بدانیم » تسهیلات قرض\\u200cالحسنه ازدواج تسهیلات قرض\\u200cالحسنه ازدواج با هدف حمایت از زوج\\u200cهای جوان در قالب قرض\\u200cالحسنه پرداخت می\\u200cشود. بیشتر بدانیم » تسهیلات قرض\\u200cالحسنه فرزندآوری تسهیلات قرض\\u200cالحسنه فرزندآوری با توجه به قانون حمایت از خانواده و جوانی جمعیت برای تولد هر فرزند در قالب قرض\\u200cالحسنه پرداخت می\\u200cشود. بیشتر بدانیم » آدرس کوتاه شده: https://enbank.ir/s/mfalqO\\n\\ndesc: چچ تسهیلات مشارکت مدنی تسهیلات مشارکت مدنی با هدف کمک به پیشرفت و رشد و رونق پروژه\\u200cهای فعالان اقتصادی در نظر گرفته شده است. بیشتر بدانیم » مضاربه بازرگانان و فعالان بخش تجاری کشور می\\u200cتوانند به\\u200cمنظور گسترش امور بازرگانی داخلی منابع نقدی موردنیاز خود برای خریدوفروش کالا را در قالب عقد مضاربه دریافت کنند. بیشتر بدانیم » خدمات ارزی مشتریان ارزی بانک اقتصادنوین می\\u200cتوانند کلیه خدمات ارزی مانند صدور حواله، گشایش اعتبارات اسنادی خارجی و صدور ضمانت\\u200cنامه\\u200cهای ارزی را در قالب خدمات ارزی دریافت کنند. بیشتر بدانیم » خدمات ریالی ویژه خدمات ویژه ریالی امکانی برای مشتریان حقوقی بانک است که خدماتی مانند\\n\\nسوال: چه تسهیلاتی توسط بانک ارائه میشود؟\\nپاسخ به فارسی:\\n\\n**پاسخ این سوال در دانش من موجود نیست.**\\n\\n Bank's services include issuing credit cards, providing loans in the form of a lease agreement and selling installment plans for employees of customer legal entities with special conditions. The text does not provide information about other services offered by the bank, therefore I cannot answer this question.\""
      ]
     },
     "execution_count": 17,
     "metadata": {},
     "output_type": "execute_result"
    }
   ],
   "source": [
    "user_query = \"چه تسهیلاتی توسط بانک ارائه میشود؟\"\n",
    "response = get_response(user_query)\n",
    "response"
   ]
  }
 ],
 "metadata": {
  "kernelspec": {
   "display_name": ".conda",
   "language": "python",
   "name": "python3"
  },
  "language_info": {
   "codemirror_mode": {
    "name": "ipython",
    "version": 3
   },
   "file_extension": ".py",
   "mimetype": "text/x-python",
   "name": "python",
   "nbconvert_exporter": "python",
   "pygments_lexer": "ipython3",
   "version": "3.11.13"
  }
 },
 "nbformat": 4,
 "nbformat_minor": 5
}
